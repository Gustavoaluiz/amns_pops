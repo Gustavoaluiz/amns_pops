{
 "cells": [
  {
   "cell_type": "code",
   "metadata": {
    "ExecuteTime": {
     "end_time": "2024-10-28T01:25:23.070729Z",
     "start_time": "2024-10-28T01:25:23.054257Z"
    }
   },
   "source": [
    "import pandas as pd\n",
    "from pandas import DataFrame\n",
    "from sklearn.manifold import TSNE\n",
    "from sklearn.cluster import DBSCAN\n",
    "import os\n",
    "import re\n",
    "import plotly.express as px\n",
    "import matplotlib.pyplot as plt\n",
    "import numpy as np\n",
    "import matplotlib.animation as animation\n",
    "\n",
    "\n",
    "from typing import List"
   ],
   "outputs": [],
   "execution_count": 13
  },
  {
   "cell_type": "code",
   "metadata": {
    "ExecuteTime": {
     "end_time": "2024-10-28T01:25:23.250198Z",
     "start_time": "2024-10-28T01:25:23.245696Z"
    }
   },
   "source": [
    "import plotly.io as pio\n",
    "\n",
    "pio.renderers.default = 'browser'"
   ],
   "outputs": [],
   "execution_count": 14
  },
  {
   "cell_type": "code",
   "metadata": {
    "ExecuteTime": {
     "end_time": "2024-10-28T01:25:23.396482Z",
     "start_time": "2024-10-28T01:25:23.389177Z"
    }
   },
   "source": [
    "files = os.listdir('pops3')\n",
    "\n",
    "files_data = [file for file in files if re.search(r'Data', file)]\n",
    "\n",
    "files_index = [file for file in files if re.search(r'Ids', file)]\n",
    "\n",
    "# Ordena arquivos por timestep (numero pós o \"t\")\n",
    "files_data = sorted(files_data, key=lambda x: int(x.split('t')[1].split()[0]))\n",
    "files_index = sorted(files_index, key=lambda x: int(x.split('t')[1].split()[0]))"
   ],
   "outputs": [],
   "execution_count": 15
  },
  {
   "cell_type": "code",
   "metadata": {
    "ExecuteTime": {
     "end_time": "2024-10-28T01:25:23.587452Z",
     "start_time": "2024-10-28T01:25:23.563483Z"
    }
   },
   "source": [
    "teste = pd.read_csv(f'pops3/{files_index[0]}', sep='\\t', header=None, )\n",
    "teste.columns = ['ancestral', 'id']\n",
    "teste"
   ],
   "outputs": [
    {
     "data": {
      "text/plain": [
       "      ancestral    id\n",
       "0             0     1\n",
       "1             0     2\n",
       "2             0     3\n",
       "3             0     4\n",
       "4             0     5\n",
       "...         ...   ...\n",
       "1995          0  1996\n",
       "1996          0  1997\n",
       "1997          0  1998\n",
       "1998          0  1999\n",
       "1999          0  2000\n",
       "\n",
       "[2000 rows x 2 columns]"
      ],
      "text/html": [
       "<div>\n",
       "<style scoped>\n",
       "    .dataframe tbody tr th:only-of-type {\n",
       "        vertical-align: middle;\n",
       "    }\n",
       "\n",
       "    .dataframe tbody tr th {\n",
       "        vertical-align: top;\n",
       "    }\n",
       "\n",
       "    .dataframe thead th {\n",
       "        text-align: right;\n",
       "    }\n",
       "</style>\n",
       "<table border=\"1\" class=\"dataframe\">\n",
       "  <thead>\n",
       "    <tr style=\"text-align: right;\">\n",
       "      <th></th>\n",
       "      <th>ancestral</th>\n",
       "      <th>id</th>\n",
       "    </tr>\n",
       "  </thead>\n",
       "  <tbody>\n",
       "    <tr>\n",
       "      <th>0</th>\n",
       "      <td>0</td>\n",
       "      <td>1</td>\n",
       "    </tr>\n",
       "    <tr>\n",
       "      <th>1</th>\n",
       "      <td>0</td>\n",
       "      <td>2</td>\n",
       "    </tr>\n",
       "    <tr>\n",
       "      <th>2</th>\n",
       "      <td>0</td>\n",
       "      <td>3</td>\n",
       "    </tr>\n",
       "    <tr>\n",
       "      <th>3</th>\n",
       "      <td>0</td>\n",
       "      <td>4</td>\n",
       "    </tr>\n",
       "    <tr>\n",
       "      <th>4</th>\n",
       "      <td>0</td>\n",
       "      <td>5</td>\n",
       "    </tr>\n",
       "    <tr>\n",
       "      <th>...</th>\n",
       "      <td>...</td>\n",
       "      <td>...</td>\n",
       "    </tr>\n",
       "    <tr>\n",
       "      <th>1995</th>\n",
       "      <td>0</td>\n",
       "      <td>1996</td>\n",
       "    </tr>\n",
       "    <tr>\n",
       "      <th>1996</th>\n",
       "      <td>0</td>\n",
       "      <td>1997</td>\n",
       "    </tr>\n",
       "    <tr>\n",
       "      <th>1997</th>\n",
       "      <td>0</td>\n",
       "      <td>1998</td>\n",
       "    </tr>\n",
       "    <tr>\n",
       "      <th>1998</th>\n",
       "      <td>0</td>\n",
       "      <td>1999</td>\n",
       "    </tr>\n",
       "    <tr>\n",
       "      <th>1999</th>\n",
       "      <td>0</td>\n",
       "      <td>2000</td>\n",
       "    </tr>\n",
       "  </tbody>\n",
       "</table>\n",
       "<p>2000 rows × 2 columns</p>\n",
       "</div>"
      ]
     },
     "execution_count": 16,
     "metadata": {},
     "output_type": "execute_result"
    }
   ],
   "execution_count": 16
  },
  {
   "cell_type": "code",
   "metadata": {
    "ExecuteTime": {
     "end_time": "2024-10-28T01:25:23.868976Z",
     "start_time": "2024-10-28T01:25:23.858739Z"
    }
   },
   "source": [
    "def plot_tsne(data: DataFrame, timestep: int):\n",
    "    tsne = TSNE(n_components=2, random_state=42, n_jobs=-1)\n",
    "    data_tsne = tsne.fit_transform(data)\n",
    "    df_tsne = pd.DataFrame(data_tsne, columns=['x', 'y'])\n",
    "\n",
    "    # Faz o plot junto\n",
    "    fig, ax = plt.subplots()\n",
    "    fig = plt.figure(figsize=(12, 6))\n",
    "\n",
    "    species = df['species'] if 'species' in df.columns else None\n",
    "\n",
    "    scatter = ax.scatter(df_tsne['x'], df_tsne['y'], c=species, cmap='viridis', label=species)\n",
    "    \n",
    "    ax.set_title(f'TSNE timestep {timestep}')\n",
    "    ax.set_xlabel('Componente 1')\n",
    "    ax.set_ylabel('Componente 2')\n",
    "    \n",
    "    if species is not None:\n",
    "        legend1 = ax.legend(*scatter.legend_elements(), title=\"Species\")\n",
    "        ax.add_artist(legend1)\n",
    "    \n",
    "    plt.show()\n",
    "\n",
    "    fig = px.scatter(df_tsne, x='x', y='y', title=f'TSNE timestep {timestep}', labels={'x': 'TSNE 1', 'y': 'TSNE 2'}, color=species)\n",
    "    fig.show()\n"
   ],
   "outputs": [],
   "execution_count": 17
  },
  {
   "cell_type": "code",
   "metadata": {
    "ExecuteTime": {
     "end_time": "2024-10-28T01:25:24.293086Z",
     "start_time": "2024-10-28T01:25:24.189705Z"
    }
   },
   "source": [
    "def agroup_species(data: DataFrame):\n",
    "    dbscan = DBSCAN(eps=50, min_samples=1, n_jobs=-1)\n",
    "\n",
    "    # agrupar por espécie\n",
    "    if 'species' not in data.columns:\n",
    "        data['species'] = dbscan.fit_predict(data)\n",
    "\n",
    "    else:\n",
    "        for i in data['species'].unique():\n",
    "            group = data.loc[data['species'] == i]\n",
    "            group = group.drop(columns=['species'])\n",
    "            species = dbscan.fit_predict(group)\n",
    "            \n",
    "            data.loc[data['species'] == i, 'species'] = species\n",
    "    \n",
    "    return data\n",
    "\n",
    "df1 = pd.read_csv(f'pops3/{files_data[90]}', sep='\\t', header=None, )\n",
    "df1.columns = ['a', 'b', 'c', 'd', 'e', 'f', 'g', 'h', 'i', 'j']\n",
    "\n",
    "df2 = pd.read_csv(f'pops3/{files_data[300]}', sep='\\t', header=None, )\n",
    "df2.columns = ['a', 'b', 'c', 'd', 'e', 'f', 'g', 'h', 'i', 'j']\n",
    "\n",
    "df1 = agroup_species(df1)\n",
    "df2 = agroup_species(df2)\n"
   ],
   "outputs": [],
   "execution_count": 18
  },
  {
   "cell_type": "code",
   "metadata": {
    "ExecuteTime": {
     "end_time": "2024-10-28T01:25:40.766050Z",
     "start_time": "2024-10-28T01:25:24.630740Z"
    }
   },
   "source": [
    "\n",
    "\n",
    "def animate_clusters(data_per_timestep, save_as=\"clusters_animation.gif\"):\n",
    "    fig, ax = plt.subplots()\n",
    "    \n",
    "    def update_plot(timestep):\n",
    "        ax.clear()\n",
    "\n",
    "        species = data_per_timestep[timestep]['species']\n",
    "        \n",
    "        # Executa o TSNE para o timestep atual\n",
    "        tsne = TSNE(n_components=2, random_state=42)\n",
    "        data_tsne = tsne.fit_transform(data_per_timestep[timestep].drop(columns=['species']))\n",
    "\n",
    "        # Scatter plot\n",
    "        ax.scatter(data_tsne[:, 0], data_tsne[:, 1], c=species, cmap='tab10')\n",
    "        ax.set_title(f'Timestep {timestep}')\n",
    "    \n",
    "    # Configura a animação\n",
    "    ani = animation.FuncAnimation(fig, update_plot, frames=len(data_per_timestep), repeat=True)\n",
    "    \n",
    "    # Salvar como GIF\n",
    "    ani.save(save_as, writer='imagemagick', fps=2)  # Pode salvar como mp4 também, trocando writer\n",
    "    plt.show()\n",
    "\n",
    "# Exemplo de uso\n",
    "animate_clusters([df1, df2])"
   ],
   "outputs": [
    {
     "name": "stderr",
     "output_type": "stream",
     "text": [
      "MovieWriter imagemagick unavailable; using Pillow instead.\n"
     ]
    },
    {
     "data": {
      "text/plain": [
       "<Figure size 640x480 with 1 Axes>"
      ],
      "image/png": "[encoded data removed]"
     },
     "metadata": {},
     "output_type": "display_data"
    }
   ],
   "execution_count": 19
  },
  {
   "cell_type": "code",
   "metadata": {
    "ExecuteTime": {
     "end_time": "2024-10-28T01:25:40.771614Z",
     "start_time": "2024-10-28T01:25:40.767889Z"
    }
   },
   "source": [
    "def plot_tsne_animated(data_per_timestep: List[DataFrame]):\n",
    "    frames = []\n",
    "\n",
    "    for timestep, data in enumerate(data_per_timestep):\n",
    "        # Executa o TSNE para o timestep atual\n",
    "        tsne = TSNE(n_components=2, random_state=42)\n",
    "        data_tsne = tsne.fit_transform(data.drop(columns=['species']))\n",
    "\n",
    "        df_tsne = pd.DataFrame(data_tsne, columns=['x', 'y'])\n",
    "        df_tsne['species'] = data['species']\n",
    "\n",
    "        # Cria o frame para o timestep atual\n",
    "        frame = px.scatter(df_tsne, x='x', y='y', color='species', title=f'TSNE Timestep {timestep}')\n",
    "        frames.append(frame)\n",
    "\n",
    "    # Cria uma animação\n",
    "    fig = px.scatter(df_tsne, x='x', y='y', color='species', title='Evolução dos Agrupamentos no Tempo',\n",
    "                     animation_frame=range(len(data_per_timestep)),\n",
    "                     labels={'x': 'TSNE 1', 'y': 'TSNE 2'})\n",
    "    \n",
    "    fig.show()\n"
   ],
   "outputs": [],
   "execution_count": 20
  },
  {
   "cell_type": "code",
   "metadata": {
    "ExecuteTime": {
     "end_time": "2024-10-28T01:25:40.775697Z",
     "start_time": "2024-10-28T01:25:40.772513Z"
    }
   },
   "source": [
    "np.unique([1, 1, 1])"
   ],
   "outputs": [
    {
     "data": {
      "text/plain": [
       "array([1])"
      ]
     },
     "execution_count": 21,
     "metadata": {},
     "output_type": "execute_result"
    }
   ],
   "execution_count": 21
  },
  {
   "cell_type": "code",
   "metadata": {
    "ExecuteTime": {
     "end_time": "2024-10-28T01:25:40.785339Z",
     "start_time": "2024-10-28T01:25:40.777366Z"
    }
   },
   "source": [
    "class Clusterizer:\n",
    "    def __init__(self):\n",
    "        self.files_data = []\n",
    "        self.files_index = []\n",
    "        self.current_df = None\n",
    "        self.current_df_indexes = None\n",
    "        self.dfs_per_timestep = []\n",
    "        self.idx_per_timestep = []\n",
    "        self.species_len = 0\n",
    "\n",
    "    def get_files(self):\n",
    "        files = os.listdir('pops3')\n",
    "\n",
    "        files_data = [file for file in files if re.search(r'Data', file)]\n",
    "        files_index = [file for file in files if re.search(r'Ids', file)]\n",
    "\n",
    "        # Ordena arquivos por timestep (numero pós o \"t\")\n",
    "        self.files_data = sorted(files_data, key=lambda x: int(x.split('t')[1].split()[0]))\n",
    "        self.files_index = sorted(files_index, key=lambda x: int(x.split('t')[1].split()[0]))\n",
    "\n",
    "    def _load_data(self, timestep: int):\n",
    "        self.current_df = pd.read_csv(f'pops3/{self.files_data[timestep]}', sep='\\t', header=None)\n",
    "        self.current_df.columns = ['a', 'b', 'c', 'd', 'e', 'f', 'g', 'h', 'i', 'j']\n",
    "\n",
    "        self.current_df_indexes = pd.read_csv(f'pops3/{self.files_index[timestep]}', sep='\\t', header=None)\n",
    "        self.current_df_indexes.columns = ['ancestral', 'id']\n",
    "\n",
    "        self.current_df['id'] = self.current_df_indexes['id']\n",
    "    \n",
    "    def _agroup_species(self, data: DataFrame):\n",
    "        dbscan = DBSCAN(eps=50, min_samples=1, n_jobs=-1)\n",
    "\n",
    "        last_df = self.dfs_per_timestep[-1] if self.dfs_per_timestep != [] else None\n",
    "\n",
    "        if last_df is not None:\n",
    "            data = pd.merge(data, last_df[['id', 'species']], on='id', how='left')\n",
    "            data['species'] = data['species'].fillna(-1)\n",
    "        else:\n",
    "            data['species'] = -1\n",
    "\n",
    "        # agrupar por espécie\n",
    "        for i in data['species'].unique():\n",
    "            group = data.loc[data['species'] == i]\n",
    "            group = group.drop(columns=['species'])\n",
    "            species = np.array(dbscan.fit_predict(group))\n",
    "            species = species + self.species_len\n",
    "\n",
    "            self.species_len += len(np.unique(species))\n",
    "\n",
    "            data.loc[data['species'] == i, 'species'] = species\n",
    "    \n",
    "        # self.current_df_indexes['species'] = data['species']\n",
    "        \n",
    "        return data\n",
    "\n",
    "    def parse_timesteps(self):\n",
    "        for i in range(len(self.files_data)):\n",
    "            print(f'Parsing timestep {i}')\n",
    "\n",
    "            self._load_data(i)\n",
    "            self.current_df = self._agroup_species(self.current_df)\n",
    "            self.dfs_per_timestep.append(self.current_df)\n",
    "\n",
    "    def animate_clusters(self, save_as=\"clusters_animation.gif\"):\n",
    "        fig, ax = plt.subplots()\n",
    "        \n",
    "        def update_plot(timestep):\n",
    "            ax.clear()\n",
    "\n",
    "            species = self.dfs_per_timestep[timestep]['species']\n",
    "            \n",
    "            # Executa o TSNE para o timestep atual\n",
    "            tsne = TSNE(n_components=2, random_state=42)\n",
    "            data_tsne = tsne.fit_transform(self.dfs_per_timestep[timestep].drop(columns=['species', 'id']))\n",
    "\n",
    "            # Scatter plot\n",
    "            ax.scatter(data_tsne[:, 0], data_tsne[:, 1], c=species, cmap='tab10')\n",
    "            ax.set_title(f'Timestep {timestep}')\n",
    "        \n",
    "        # Configura a animação\n",
    "        ani = animation.FuncAnimation(fig, update_plot, frames=len(self.dfs_per_timestep), repeat=True)\n",
    "        \n",
    "        # Salvar como GIF\n",
    "        ani.save(save_as, writer='imagemagick', fps=2)  # Pode salvar como mp4 também, trocando writer\n",
    "        plt.show()\n"
   ],
   "outputs": [],
   "execution_count": 22
  },
  {
   "cell_type": "code",
   "metadata": {
    "jupyter": {
     "is_executing": true
    },
    "ExecuteTime": {
     "start_time": "2024-10-28T01:25:40.786363Z"
    }
   },
   "source": [
    "clusterizer = Clusterizer()\n",
    "clusterizer.get_files()\n",
    "clusterizer.parse_timesteps()\n",
    "clusterizer.animate_clusters()\n"
   ],
   "outputs": [
    {
     "name": "stdout",
     "output_type": "stream",
     "text": [
      "Parsing timestep 0\n",
      "Parsing timestep 1\n",
      "Parsing timestep 2\n",
      "Parsing timestep 3\n",
      "Parsing timestep 4\n",
      "Parsing timestep 5\n",
      "Parsing timestep 6\n",
      "Parsing timestep 7\n",
      "Parsing timestep 8\n",
      "Parsing timestep 9\n",
      "Parsing timestep 10\n",
      "Parsing timestep 11\n",
      "Parsing timestep 12\n",
      "Parsing timestep 13\n",
      "Parsing timestep 14\n",
      "Parsing timestep 15\n",
      "Parsing timestep 16\n",
      "Parsing timestep 17\n",
      "Parsing timestep 18\n",
      "Parsing timestep 19\n",
      "Parsing timestep 20\n",
      "Parsing timestep 21\n",
      "Parsing timestep 22\n",
      "Parsing timestep 23\n",
      "Parsing timestep 24\n",
      "Parsing timestep 25\n",
      "Parsing timestep 26\n",
      "Parsing timestep 27\n",
      "Parsing timestep 28\n",
      "Parsing timestep 29\n",
      "Parsing timestep 30\n",
      "Parsing timestep 31\n",
      "Parsing timestep 32\n",
      "Parsing timestep 33\n",
      "Parsing timestep 34\n",
      "Parsing timestep 35\n",
      "Parsing timestep 36\n",
      "Parsing timestep 37\n",
      "Parsing timestep 38\n",
      "Parsing timestep 39\n",
      "Parsing timestep 40\n",
      "Parsing timestep 41\n",
      "Parsing timestep 42\n",
      "Parsing timestep 43\n",
      "Parsing timestep 44\n",
      "Parsing timestep 45\n",
      "Parsing timestep 46\n",
      "Parsing timestep 47\n",
      "Parsing timestep 48\n",
      "Parsing timestep 49\n",
      "Parsing timestep 50\n",
      "Parsing timestep 51\n",
      "Parsing timestep 52\n",
      "Parsing timestep 53\n",
      "Parsing timestep 54\n",
      "Parsing timestep 55\n",
      "Parsing timestep 56\n",
      "Parsing timestep 57\n",
      "Parsing timestep 58\n",
      "Parsing timestep 59\n",
      "Parsing timestep 60\n",
      "Parsing timestep 61\n",
      "Parsing timestep 62\n",
      "Parsing timestep 63\n",
      "Parsing timestep 64\n",
      "Parsing timestep 65\n",
      "Parsing timestep 66\n",
      "Parsing timestep 67\n",
      "Parsing timestep 68\n",
      "Parsing timestep 69\n",
      "Parsing timestep 70\n",
      "Parsing timestep 71\n",
      "Parsing timestep 72\n",
      "Parsing timestep 73\n",
      "Parsing timestep 74\n",
      "Parsing timestep 75\n",
      "Parsing timestep 76\n",
      "Parsing timestep 77\n",
      "Parsing timestep 78\n",
      "Parsing timestep 79\n",
      "Parsing timestep 80\n",
      "Parsing timestep 81\n",
      "Parsing timestep 82\n",
      "Parsing timestep 83\n",
      "Parsing timestep 84\n",
      "Parsing timestep 85\n",
      "Parsing timestep 86\n",
      "Parsing timestep 87\n",
      "Parsing timestep 88\n",
      "Parsing timestep 89\n"
     ]
    }
   ],
   "execution_count": null
  },
  {
   "cell_type": "code",
   "execution_count": null,
   "metadata": {},
   "outputs": [],
   "source": []
  }
 ],
 "metadata": {
  "kernelspec": {
   "display_name": "venv",
   "language": "python",
   "name": "python3"
  },
  "language_info": {
   "codemirror_mode": {
    "name": "ipython",
    "version": 3
   },
   "file_extension": ".py",
   "mimetype": "text/x-python",
   "name": "python",
   "nbconvert_exporter": "python",
   "pygments_lexer": "ipython3",
   "version": "3.12.4"
  }
 },
 "nbformat": 4,
 "nbformat_minor": 2
}
